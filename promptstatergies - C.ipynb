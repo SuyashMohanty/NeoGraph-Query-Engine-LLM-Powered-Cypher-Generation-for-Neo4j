{
 "cells": [
  {
   "cell_type": "code",
   "execution_count": null,
   "id": "10d660e5",
   "metadata": {},
   "outputs": [],
   "source": [
    "NEO4J_URI=\"\"\n",
    "NEO4J_USERNAME=\"\"\n",
    "NEO4J_PASSWORD=\"\""
   ]
  },
  {
   "cell_type": "code",
   "execution_count": 39,
   "id": "9dd6148b",
   "metadata": {},
   "outputs": [],
   "source": [
    "import os\n",
    "os.environ[\"NEO4J_URI\"] = NEO4J_URI\n",
    "os.environ[\"NEO4J_USERNAME\"] = NEO4J_USERNAME\n",
    "os.environ[\"NEO4J_PASSWORD\"] = NEO4J_PASSWORD"
   ]
  },
  {
   "cell_type": "code",
   "execution_count": 40,
   "id": "9098bc64",
   "metadata": {},
   "outputs": [
    {
     "data": {
      "text/plain": [
       "<langchain_neo4j.graphs.neo4j_graph.Neo4jGraph at 0x16399a7d760>"
      ]
     },
     "execution_count": 40,
     "metadata": {},
     "output_type": "execute_result"
    }
   ],
   "source": [
    "from langchain_neo4j import Neo4jGraph ## Connect with Neo4j Graph database\n",
    "graph=Neo4jGraph(url=NEO4J_URI,username=NEO4J_USERNAME,password=NEO4J_PASSWORD)\n",
    "graph"
   ]
  },
  {
   "cell_type": "code",
   "execution_count": 41,
   "id": "ddca276b",
   "metadata": {},
   "outputs": [
    {
     "data": {
      "text/plain": [
       "ChatGroq(client=<groq.resources.chat.completions.Completions object at 0x0000016399A7D940>, async_client=<groq.resources.chat.completions.AsyncCompletions object at 0x0000016399A69130>, model_name='Gemma2-9b-It', model_kwargs={}, groq_api_key=SecretStr('**********'))"
      ]
     },
     "execution_count": 41,
     "metadata": {},
     "output_type": "execute_result"
    }
   ],
   "source": [
    "import os\n",
    "from dotenv import load_dotenv\n",
    "load_dotenv()\n",
    "\n",
    "groq_api_key=os.getenv(\"Groq_API_KEY\")\n",
    "from langchain_groq import ChatGroq\n",
    "llm=ChatGroq(groq_api_key=groq_api_key, model_name=\"Gemma2-9b-It\")\n",
    "llm"
   ]
  },
  {
   "cell_type": "code",
   "execution_count": 42,
   "id": "b97d466a",
   "metadata": {},
   "outputs": [],
   "source": [
    "from langchain_neo4j import GraphCypherQAChain\n",
    "chain = GraphCypherQAChain.from_llm(\n",
    "    llm=llm,\n",
    "    graph=graph,\n",
    "    exclude_types=[\"Genre\"],\n",
    "    verbose=True,\n",
    "    allow_dangerous_requests=True  # allows updates/mutations if needed\n",
    ")"
   ]
  },
  {
   "cell_type": "code",
   "execution_count": 43,
   "id": "cf06d899",
   "metadata": {},
   "outputs": [
    {
     "data": {
      "text/plain": [
       "'Node properties:\\nMovie {id: STRING, released: DATE, title: STRING, imdbRating: FLOAT}\\nPerson {name: STRING}\\nGenre {name: STRING}\\nRelationship properties:\\n\\nThe relationships:\\n(:Movie)-[:IN_GENRE]->(:Genre)\\n(:Person)-[:DIRECTED]->(:Movie)\\n(:Person)-[:ACTED_IN]->(:Movie)'"
      ]
     },
     "execution_count": 43,
     "metadata": {},
     "output_type": "execute_result"
    }
   ],
   "source": [
    "chain.graph.schema"
   ]
  },
  {
   "cell_type": "code",
   "execution_count": 44,
   "id": "ca6c1bca",
   "metadata": {},
   "outputs": [],
   "source": [
    "examples = [\n",
    "    {\n",
    "        \"question\": \"How many artists are there?\",\n",
    "        \"query\": \"MATCH (a:Person)-[:ACTED_IN]->(:Movie) RETURN count(DISTINCT a)\"\n",
    "    },\n",
    "    {\n",
    "        \"question\": \"Which actors played in the movie Casino?\",\n",
    "        \"query\": \"MATCH (m:Movie {{title: 'Casino'}})<-[:ACTED_IN]-(a) RETURN a.name\"\n",
    "    },\n",
    "    {\n",
    "        \"question\": \"How many movies has Tom Hanks acted in?\",\n",
    "        \"query\": \"MATCH (a:Person {{name: 'Tom Hanks'}})-[:ACTED_IN]->(m:Movie) RETURN count(m)\"\n",
    "    },\n",
    "    {\n",
    "        \"question\": \"List all the genres of the movie Schindler's List\",\n",
    "        \"query\": \"MATCH (m:Movie {{title: 'Schindler\\\\'s List'}})-[:IN_GENRE]->(g:Genre) RETURN g.name\"\n",
    "    },\n",
    "    {\n",
    "        \"question\": \"Which actors have worked in movies from both the comedy and action genres?\",\n",
    "        \"query\": (\n",
    "            \"MATCH (a:Person)-[:ACTED_IN]->(:Movie)-[:IN_GENRE]->(g1:Genre), \"\n",
    "            \"(a)-[:ACTED_IN]->(:Movie)-[:IN_GENRE]->(g2:Genre) \"\n",
    "            \"WHERE g1.name = 'Comedy' AND g2.name = 'Action' \"\n",
    "            \"RETURN DISTINCT a.name\"\n",
    "        )\n",
    "    },\n",
    "    {\n",
    "        \"question\": \"Which directors have made movies with at least three different actors named 'John'?\",\n",
    "        \"query\": (\n",
    "            \"MATCH (d:Person)-[:DIRECTED]->(m:Movie)<-[:ACTED_IN]-(a:Person) \"\n",
    "            \"WHERE a.name STARTS WITH 'John' \"\n",
    "            \"WITH d, COUNT(DISTINCT a) AS JohnsCount \"\n",
    "            \"WHERE JohnsCount >= 3 \"\n",
    "            \"RETURN d.name\"\n",
    "        )\n",
    "    },\n",
    "    {\n",
    "        \"question\": \"Identify movies where directors also played a role in the film.\",\n",
    "        \"query\": \"MATCH (p:Person)-[:DIRECTED]->(m:Movie), (p)-[:ACTED_IN]->(m) RETURN m.title, p.name\"\n",
    "    },\n",
    "    {\n",
    "        \"question\": \"Find the actor with the highest number of movies in the database.\",\n",
    "        \"query\": (\n",
    "            \"MATCH (a:Actor)-[:ACTED_IN]->(m:Movie) \"\n",
    "            \"RETURN a.name, COUNT(m) AS movieCount \"\n",
    "            \"ORDER BY movieCount DESC LIMIT 1\"\n",
    "        )\n",
    "    }\n",
    "]\n"
   ]
  },
  {
   "cell_type": "code",
   "execution_count": 45,
   "id": "2d253a4e",
   "metadata": {},
   "outputs": [],
   "source": [
    "from langchain_core.prompts import FewShotPromptTemplate,PromptTemplate\n",
    "\n",
    "example_prompt=PromptTemplate.from_template(\n",
    "    \"User input:{question}\\nCypher query:{query}\"\n",
    ")\n",
    "\n",
    "prompt=FewShotPromptTemplate(\n",
    "    examples=examples,\n",
    "    example_prompt=example_prompt,\n",
    "    prefix=\"You are a Neo4j expert. Given an input question,create a syntactically very accurate Cypher query\",\n",
    "    suffix=\"User input: {question}\\nCypher query: \",\n",
    "    input_variables=[\"question\",\"schema\"]\n",
    ")"
   ]
  },
  {
   "cell_type": "code",
   "execution_count": 46,
   "id": "ef50cc9d",
   "metadata": {},
   "outputs": [
    {
     "data": {
      "text/plain": [
       "FewShotPromptTemplate(input_variables=['question'], input_types={}, partial_variables={}, examples=[{'question': 'How many artists are there?', 'query': 'MATCH (a:Person)-[:ACTED_IN]->(:Movie) RETURN count(DISTINCT a)'}, {'question': 'Which actors played in the movie Casino?', 'query': \"MATCH (m:Movie {{title: 'Casino'}})<-[:ACTED_IN]-(a) RETURN a.name\"}, {'question': 'How many movies has Tom Hanks acted in?', 'query': \"MATCH (a:Person {{name: 'Tom Hanks'}})-[:ACTED_IN]->(m:Movie) RETURN count(m)\"}, {'question': \"List all the genres of the movie Schindler's List\", 'query': \"MATCH (m:Movie {{title: 'Schindler\\\\'s List'}})-[:IN_GENRE]->(g:Genre) RETURN g.name\"}, {'question': 'Which actors have worked in movies from both the comedy and action genres?', 'query': \"MATCH (a:Person)-[:ACTED_IN]->(:Movie)-[:IN_GENRE]->(g1:Genre), (a)-[:ACTED_IN]->(:Movie)-[:IN_GENRE]->(g2:Genre) WHERE g1.name = 'Comedy' AND g2.name = 'Action' RETURN DISTINCT a.name\"}, {'question': \"Which directors have made movies with at least three different actors named 'John'?\", 'query': \"MATCH (d:Person)-[:DIRECTED]->(m:Movie)<-[:ACTED_IN]-(a:Person) WHERE a.name STARTS WITH 'John' WITH d, COUNT(DISTINCT a) AS JohnsCount WHERE JohnsCount >= 3 RETURN d.name\"}, {'question': 'Identify movies where directors also played a role in the film.', 'query': 'MATCH (p:Person)-[:DIRECTED]->(m:Movie), (p)-[:ACTED_IN]->(m) RETURN m.title, p.name'}, {'question': 'Find the actor with the highest number of movies in the database.', 'query': 'MATCH (a:Actor)-[:ACTED_IN]->(m:Movie) RETURN a.name, COUNT(m) AS movieCount ORDER BY movieCount DESC LIMIT 1'}], example_prompt=PromptTemplate(input_variables=['query', 'question'], input_types={}, partial_variables={}, template='User input:{question}\\nCypher query:{query}'), suffix='User input: {question}\\nCypher query: ', prefix='You are a Neo4j expert. Given an input question,create a syntactically very accurate Cypher query')"
      ]
     },
     "execution_count": 46,
     "metadata": {},
     "output_type": "execute_result"
    }
   ],
   "source": [
    "prompt"
   ]
  },
  {
   "cell_type": "code",
   "execution_count": 47,
   "id": "31dc8ed6",
   "metadata": {},
   "outputs": [
    {
     "name": "stdout",
     "output_type": "stream",
     "text": [
      "You are a Neo4j expert. Given an input question,create a syntactically very accurate Cypher query\n",
      "\n",
      "User input:How many artists are there?\n",
      "Cypher query:MATCH (a:Person)-[:ACTED_IN]->(:Movie) RETURN count(DISTINCT a)\n",
      "\n",
      "User input:Which actors played in the movie Casino?\n",
      "Cypher query:MATCH (m:Movie {title: 'Casino'})<-[:ACTED_IN]-(a) RETURN a.name\n",
      "\n",
      "User input:How many movies has Tom Hanks acted in?\n",
      "Cypher query:MATCH (a:Person {name: 'Tom Hanks'})-[:ACTED_IN]->(m:Movie) RETURN count(m)\n",
      "\n",
      "User input:List all the genres of the movie Schindler's List\n",
      "Cypher query:MATCH (m:Movie {title: 'Schindler\\'s List'})-[:IN_GENRE]->(g:Genre) RETURN g.name\n",
      "\n",
      "User input:Which actors have worked in movies from both the comedy and action genres?\n",
      "Cypher query:MATCH (a:Person)-[:ACTED_IN]->(:Movie)-[:IN_GENRE]->(g1:Genre), (a)-[:ACTED_IN]->(:Movie)-[:IN_GENRE]->(g2:Genre) WHERE g1.name = 'Comedy' AND g2.name = 'Action' RETURN DISTINCT a.name\n",
      "\n",
      "User input:Which directors have made movies with at least three different actors named 'John'?\n",
      "Cypher query:MATCH (d:Person)-[:DIRECTED]->(m:Movie)<-[:ACTED_IN]-(a:Person) WHERE a.name STARTS WITH 'John' WITH d, COUNT(DISTINCT a) AS JohnsCount WHERE JohnsCount >= 3 RETURN d.name\n",
      "\n",
      "User input:Identify movies where directors also played a role in the film.\n",
      "Cypher query:MATCH (p:Person)-[:DIRECTED]->(m:Movie), (p)-[:ACTED_IN]->(m) RETURN m.title, p.name\n",
      "\n",
      "User input:Find the actor with the highest number of movies in the database.\n",
      "Cypher query:MATCH (a:Actor)-[:ACTED_IN]->(m:Movie) RETURN a.name, COUNT(m) AS movieCount ORDER BY movieCount DESC LIMIT 1\n",
      "\n",
      "User input: How many artists are there?\n",
      "Cypher query: \n"
     ]
    }
   ],
   "source": [
    "print(prompt.format(question=\"How many artists are there?\", schema=\"foo\"))"
   ]
  },
  {
   "cell_type": "code",
   "execution_count": 48,
   "id": "cab895f9",
   "metadata": {},
   "outputs": [],
   "source": [
    "llm\n",
    "chain=GraphCypherQAChain.from_llm(graph=graph, llm=llm, cypher_prompt=prompt, verbose=True, allow_dangerous_requests=True)"
   ]
  },
  {
   "cell_type": "code",
   "execution_count": 49,
   "id": "42567585",
   "metadata": {},
   "outputs": [
    {
     "name": "stdout",
     "output_type": "stream",
     "text": [
      "\n",
      "\n",
      "\u001b[1m> Entering new GraphCypherQAChain chain...\u001b[0m\n",
      "Generated Cypher:\n",
      "\u001b[32;1m\u001b[1;3mcypher\n",
      "MATCH (m:Movie {title: 'Casino'})<-[:ACTED_IN]-(a:Person) RETURN a.name\n",
      "\u001b[0m\n",
      "Full Context:\n",
      "\u001b[32;1m\u001b[1;3m[{'a.name': 'Robert De Niro'}, {'a.name': 'Joe Pesci'}, {'a.name': 'Sharon Stone'}, {'a.name': 'James Woods'}]\u001b[0m\n",
      "\n",
      "\u001b[1m> Finished chain.\u001b[0m\n"
     ]
    },
    {
     "data": {
      "text/plain": [
       "{'query': 'Which actors played in the movie Casino?',\n",
       " 'result': 'Robert De Niro, Joe Pesci, Sharon Stone, and James Woods played in the movie Casino.  \\n'}"
      ]
     },
     "execution_count": 49,
     "metadata": {},
     "output_type": "execute_result"
    }
   ],
   "source": [
    "chain.invoke(\"Which actors played in the movie Casino?\")"
   ]
  },
  {
   "cell_type": "code",
   "execution_count": 50,
   "id": "60ec00fe",
   "metadata": {},
   "outputs": [
    {
     "name": "stdout",
     "output_type": "stream",
     "text": [
      "\n",
      "\n",
      "\u001b[1m> Entering new GraphCypherQAChain chain...\u001b[0m\n",
      "Generated Cypher:\n",
      "\u001b[32;1m\u001b[1;3mcypher\n",
      "MATCH (p:Person)-[:DIRECTED]->(m:Movie), (p)-[:ACTED_IN]->(m) \n",
      "RETURN m.title, p.name\n",
      "\u001b[0m\n",
      "Full Context:\n",
      "\u001b[32;1m\u001b[1;3m[{'m.title': 'Mighty Aphrodite', 'p.name': 'Woody Allen'}, {'m.title': 'French Twist (Gazon maudit)', 'p.name': 'Josiane Balasko'}, {'m.title': 'Heidi Fleiss: Hollywood Madam', 'p.name': 'Nick Broomfield'}, {'m.title': 'Bridges of Madison County, The', 'p.name': 'Clint Eastwood'}, {'m.title': 'If Lucy Fell', 'p.name': 'Eric Schaeffer'}, {'m.title': 'Burnt by the Sun (Utomlyonnye solntsem)', 'p.name': 'Nikita Mikhalkov'}, {'m.title': 'Forget Paris', 'p.name': 'Billy Crystal'}, {'m.title': 'Gumby: The Movie', 'p.name': 'Art Clokey'}, {'m.title': 'Hoop Dreams', 'p.name': 'Steve James'}, {'m.title': \"Mary Shelley's Frankenstein (Frankenstein)\", 'p.name': 'Kenneth Branagh'}]\u001b[0m\n",
      "\n",
      "\u001b[1m> Finished chain.\u001b[0m\n"
     ]
    },
    {
     "data": {
      "text/plain": [
       "{'query': 'Identify movies where directors also played a role in the film',\n",
       " 'result': 'Mighty Aphrodite, Forget Paris,  \"Mary Shelley\\'s Frankenstein (Frankenstein)\". \\n'}"
      ]
     },
     "execution_count": 50,
     "metadata": {},
     "output_type": "execute_result"
    }
   ],
   "source": [
    "chain.invoke(\"Identify movies where directors also played a role in the film\")"
   ]
  },
  {
   "cell_type": "code",
   "execution_count": 52,
   "id": "a71f90a4",
   "metadata": {},
   "outputs": [
    {
     "name": "stdout",
     "output_type": "stream",
     "text": [
      "\n",
      "\n",
      "\u001b[1m> Entering new GraphCypherQAChain chain...\u001b[0m\n",
      "Generated Cypher:\n",
      "\u001b[32;1m\u001b[1;3mcypher\n",
      "MATCH (a:Person {name: 'Tom Hanks'})-[:ACTED_IN]->(m:Movie) \n",
      "RETURN count(m) AS movieCount\n",
      "\u001b[0m\n",
      "Full Context:\n",
      "\u001b[32;1m\u001b[1;3m[{'movieCount': 2}]\u001b[0m\n",
      "\n",
      "\u001b[1m> Finished chain.\u001b[0m\n"
     ]
    },
    {
     "data": {
      "text/plain": [
       "{'query': 'How many movies has Tom Hanks acted in, tell me the number',\n",
       " 'result': \"I don't know the answer. \\n\"}"
      ]
     },
     "execution_count": 52,
     "metadata": {},
     "output_type": "execute_result"
    }
   ],
   "source": [
    "chain.invoke(\"How many movies has Tom Hanks acted in, tell me the number\")"
   ]
  },
  {
   "cell_type": "code",
   "execution_count": null,
   "id": "926573f9",
   "metadata": {},
   "outputs": [],
   "source": []
  }
 ],
 "metadata": {
  "kernelspec": {
   "display_name": "Python 3",
   "language": "python",
   "name": "python3"
  },
  "language_info": {
   "codemirror_mode": {
    "name": "ipython",
    "version": 3
   },
   "file_extension": ".py",
   "mimetype": "text/x-python",
   "name": "python",
   "nbconvert_exporter": "python",
   "pygments_lexer": "ipython3",
   "version": "3.12.0"
  }
 },
 "nbformat": 4,
 "nbformat_minor": 5
}
